{
 "cells": [
  {
   "cell_type": "markdown",
   "metadata": {},
   "source": [
    "Class Game"
   ]
  },
  {
   "cell_type": "code",
   "execution_count": 1,
   "metadata": {},
   "outputs": [],
   "source": [
    "from copy import deepcopy\n",
    "from time import sleep\n",
    "\n",
    "class Game4InLine:\n",
    "    def __init__ (self,board,placed):\n",
    "        self.rows = len(board)\n",
    "        self.cols = len(board[0])\n",
    "        self.board = deepcopy(board) #matrix representing the board\n",
    "        self.placed = deepcopy(placed) #list with the num of pieces per column\n",
    "        self.pieces = ['X','O']\n",
    "        self.turn = 0 #to know what is next player \n",
    "        self.round=0 #number of rounds played\n",
    "\n",
    "\n",
    "    def play(self,col:int): #funcion to place pieces based on turn and column\n",
    "        \n",
    "        if self.turn%2==0: #Human  turn\n",
    "            self.board[self.rows-self.placed[col]-1][col]=self.pieces[self.turn]\n",
    "            self.placed[col]+=1\n",
    "            self.turn=1\n",
    "            self.round+=1\n",
    "            return self\n",
    "        \n",
    "        elif self.turn%2!=0: #AI turn\n",
    "\n",
    "            if(self.placed[col]>=self.rows): #true when column is full\n",
    "                return None #este if faz mais sentido para criar as childs\n",
    "\n",
    "            self.board[self.rows-self.placed[col]-1][col]=self.pieces[self.turn]\n",
    "            self.placed[col]+=1\n",
    "            self.turn=0\n",
    "            self.round+=1\n",
    "            return self\n",
    "\n",
    "    def isFinished(self,col): #return 99 if game is a draw, True if last move was a winning on , False to keep playing\n",
    "        played=self.pieces[self.turn-1]\n",
    "        row=self.rows-self.placed[col]\n",
    "        if(self.round==(self.rows*self.cols)):\n",
    "            return 99\n",
    "        \n",
    "        if(self.placed[col]>=4): #verify for vertical win\n",
    "            if(self.board[row][col]==played and self.board[row+1][col]==played and self.board[row+2][col]==played and self.board[row+3][col]==played):\n",
    "                return True\n",
    "\n",
    "        for i in range(4): #verify horizontal win\n",
    "            \n",
    "            ...\n",
    "\n",
    "        return False\n",
    "\n",
    "        \n",
    "\n",
    "    def __str__(self): #override the print() method\n",
    "        return print_board(self.board)"
   ]
  },
  {
   "cell_type": "markdown",
   "metadata": {},
   "source": [
    "funções para inicializar a board e representar no terminal"
   ]
  },
  {
   "cell_type": "code",
   "execution_count": 2,
   "metadata": {},
   "outputs": [],
   "source": [
    "def start_board(rows, cols): #start the board with '-' for all entrances\n",
    "    return [['-' for _ in range(cols)] for _ in range(rows)]\n",
    "\n",
    "def start_placed(cols): #start a list to record the num of piece per column\n",
    "    return [0 for _ in range(cols)]\n",
    "\n",
    "def print_board(board): #transform the game board from matrix to a visual representation\n",
    "    board_str=\"|\"\n",
    "    for k in range(len(board[0])):\n",
    "        board_str+=f\" {k} |\"\n",
    "    board_str+=\"\\n\"\n",
    "    for i in range(len(board)):\n",
    "        board_str += \"| \"\n",
    "        for j in range(len(board[i])):\n",
    "            board_str+=board[i][j]\n",
    "            board_str += \" | \"\n",
    "        board_str+=\"\\n\"\n",
    "    return board_str\n"
   ]
  },
  {
   "cell_type": "markdown",
   "metadata": {},
   "source": [
    "loop do jogo"
   ]
  },
  {
   "cell_type": "code",
   "execution_count": 3,
   "metadata": {},
   "outputs": [],
   "source": [
    "BOARD_SIZE_STANDARD=True #make it 'False' if u want to play 4InLine with a board diff from 6x7\n",
    "\n",
    "\n",
    "def main(): #loop for the game\n",
    "    if BOARD_SIZE_STANDARD: game=Game4InLine(board=start_board(6,7),placed=start_placed(7))\n",
    "\n",
    "    else: \n",
    "        r,c=map(int,input(\"Min board size: 5x5\\nBoard size: (rows,cols) \").split())\n",
    "        if(r<=4 or c<=4): game=Game4InLine(board=start_board(6,7),placed=start_placed(7))\n",
    "        else: game=Game4InLine(board=start_board(r,c),placed=start_placed(c)) \n",
    "\n",
    "    print(game)\n",
    "\n",
    "    while True:\n",
    "        if(game.turn%2==0): print(\"player 1 ('X') turn\")\n",
    "        else: print(\"player 2 ('O') turn\")\n",
    "\n",
    "        column_played = int(input(\"Column to place: \"))\n",
    "        if (column_played > game.cols-1 or column_played < 0):\n",
    "            print(\"Column out of range\")\n",
    "            continue\n",
    "        elif game.placed[column_played] >= game.rows :\n",
    "            print(\"Column is full\")\n",
    "            continue\n",
    "        else:\n",
    "            game.play(column_played)\n",
    "            print(game)\n",
    "            print(game.placed)\n",
    "        res=game.isFinished(column_played)\n",
    "        if res:\n",
    "            if res==99:\n",
    "                print(f\"Draw\")\n",
    "                break\n",
    "            else:\n",
    "                print(f\"{game.pieces[game.turn-1]} won\")\n",
    "                break\n",
    "\n",
    "        "
   ]
  }
 ],
 "metadata": {
  "kernelspec": {
   "display_name": "Python 3",
   "language": "python",
   "name": "python3"
  },
  "language_info": {
   "codemirror_mode": {
    "name": "ipython",
    "version": 3
   },
   "file_extension": ".py",
   "mimetype": "text/x-python",
   "name": "python",
   "nbconvert_exporter": "python",
   "pygments_lexer": "ipython3",
   "version": "3.11.7"
  }
 },
 "nbformat": 4,
 "nbformat_minor": 2
}
